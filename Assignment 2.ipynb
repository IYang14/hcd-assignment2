{
 "cells": [
  {
   "cell_type": "markdown",
   "metadata": {},
   "source": [
    "### Perspective API Exploration\n",
    "\n",
    "First, we have a dataset of Wikipedia comments made available by Jigsaw, a subsidiary of Google that created the Perspective tool. The dataset includes a unique comment id, the text of the comment, and a series of binary labels applied by human raters: \"toxic,\" \"severe_toxic,\" \"obscene,\" \"threat,\" \"insult,\" and \"identity_hate.\" I have appended the \"score\" column, which represents the toxicity score assigned to the comment text by the live version of the Perspective API. The data is available under a CC0 license."
   ]
  },
  {
   "cell_type": "code",
   "execution_count": 170,
   "metadata": {},
   "outputs": [],
   "source": [
    "import pandas as pd\n",
    "import time\n",
    "import matplotlib.pyplot as plt\n",
    "import numpy as np\n",
    "import seaborn as sns\n",
    "\n",
    "df = pd.read_csv('labeled_and_scored_comments.csv')"
   ]
  },
  {
   "cell_type": "code",
   "execution_count": 171,
   "metadata": {},
   "outputs": [
    {
     "data": {
      "text/html": [
       "<div>\n",
       "<style scoped>\n",
       "    .dataframe tbody tr th:only-of-type {\n",
       "        vertical-align: middle;\n",
       "    }\n",
       "\n",
       "    .dataframe tbody tr th {\n",
       "        vertical-align: top;\n",
       "    }\n",
       "\n",
       "    .dataframe thead th {\n",
       "        text-align: right;\n",
       "    }\n",
       "</style>\n",
       "<table border=\"1\" class=\"dataframe\">\n",
       "  <thead>\n",
       "    <tr style=\"text-align: right;\">\n",
       "      <th></th>\n",
       "      <th>id</th>\n",
       "      <th>comment_text</th>\n",
       "      <th>score</th>\n",
       "      <th>toxic</th>\n",
       "      <th>severe_toxic</th>\n",
       "      <th>obscene</th>\n",
       "      <th>threat</th>\n",
       "      <th>insult</th>\n",
       "      <th>identity_hate</th>\n",
       "    </tr>\n",
       "  </thead>\n",
       "  <tbody>\n",
       "    <tr>\n",
       "      <th>1158</th>\n",
       "      <td>61a85266de70cca0</td>\n",
       "      <td>Можешь говорить по русски.</td>\n",
       "      <td>0.000004</td>\n",
       "      <td>0</td>\n",
       "      <td>0</td>\n",
       "      <td>0</td>\n",
       "      <td>0</td>\n",
       "      <td>0</td>\n",
       "      <td>0</td>\n",
       "    </tr>\n",
       "    <tr>\n",
       "      <th>5246</th>\n",
       "      <td>030a9ba0b32b4456</td>\n",
       "      <td>Rodzina Krusenstern Potomkowie Admirała Adama ...</td>\n",
       "      <td>0.000009</td>\n",
       "      <td>0</td>\n",
       "      <td>0</td>\n",
       "      <td>0</td>\n",
       "      <td>0</td>\n",
       "      <td>0</td>\n",
       "      <td>0</td>\n",
       "    </tr>\n",
       "    <tr>\n",
       "      <th>11040</th>\n",
       "      <td>a6814193ac6b4705</td>\n",
       "      <td>The opening paragraph states that the game is ...</td>\n",
       "      <td>0.000091</td>\n",
       "      <td>0</td>\n",
       "      <td>0</td>\n",
       "      <td>0</td>\n",
       "      <td>0</td>\n",
       "      <td>0</td>\n",
       "      <td>0</td>\n",
       "    </tr>\n",
       "    <tr>\n",
       "      <th>24192</th>\n",
       "      <td>f0d6dee96e057a5b</td>\n",
       "      <td>The book is used as a source in a number of ar...</td>\n",
       "      <td>0.000116</td>\n",
       "      <td>0</td>\n",
       "      <td>0</td>\n",
       "      <td>0</td>\n",
       "      <td>0</td>\n",
       "      <td>0</td>\n",
       "      <td>0</td>\n",
       "    </tr>\n",
       "    <tr>\n",
       "      <th>2332</th>\n",
       "      <td>cbb9268d3c7429c1</td>\n",
       "      <td>Vals Vienés \\n |Rumba \\n |Cha Cha Chá(ciclo 7)</td>\n",
       "      <td>0.000131</td>\n",
       "      <td>0</td>\n",
       "      <td>0</td>\n",
       "      <td>0</td>\n",
       "      <td>0</td>\n",
       "      <td>0</td>\n",
       "      <td>0</td>\n",
       "    </tr>\n",
       "    <tr>\n",
       "      <th>...</th>\n",
       "      <td>...</td>\n",
       "      <td>...</td>\n",
       "      <td>...</td>\n",
       "      <td>...</td>\n",
       "      <td>...</td>\n",
       "      <td>...</td>\n",
       "      <td>...</td>\n",
       "      <td>...</td>\n",
       "      <td>...</td>\n",
       "    </tr>\n",
       "    <tr>\n",
       "      <th>19994</th>\n",
       "      <td>1429a2c930688317</td>\n",
       "      <td>you fucking piece of shit</td>\n",
       "      <td>0.997278</td>\n",
       "      <td>1</td>\n",
       "      <td>1</td>\n",
       "      <td>1</td>\n",
       "      <td>0</td>\n",
       "      <td>1</td>\n",
       "      <td>0</td>\n",
       "    </tr>\n",
       "    <tr>\n",
       "      <th>28728</th>\n",
       "      <td>d82e45eb103ad07b</td>\n",
       "      <td>fuck off you stupid aspy asshole</td>\n",
       "      <td>0.997736</td>\n",
       "      <td>1</td>\n",
       "      <td>1</td>\n",
       "      <td>1</td>\n",
       "      <td>0</td>\n",
       "      <td>1</td>\n",
       "      <td>0</td>\n",
       "    </tr>\n",
       "    <tr>\n",
       "      <th>25535</th>\n",
       "      <td>e9b92c6c6b01aeef</td>\n",
       "      <td>FUCK YOU YOU PIECE OF SHIT \\n FUCK YOU YOU PIE...</td>\n",
       "      <td>0.997982</td>\n",
       "      <td>1</td>\n",
       "      <td>1</td>\n",
       "      <td>1</td>\n",
       "      <td>0</td>\n",
       "      <td>1</td>\n",
       "      <td>0</td>\n",
       "    </tr>\n",
       "    <tr>\n",
       "      <th>25945</th>\n",
       "      <td>e783fd267f3a9d3b</td>\n",
       "      <td>FUCK WIKIPEDIA ON WHEELS! \\n\\nFuck off wikiped...</td>\n",
       "      <td>0.998136</td>\n",
       "      <td>1</td>\n",
       "      <td>1</td>\n",
       "      <td>1</td>\n",
       "      <td>0</td>\n",
       "      <td>1</td>\n",
       "      <td>0</td>\n",
       "    </tr>\n",
       "    <tr>\n",
       "      <th>17833</th>\n",
       "      <td>364b6c24210e2345</td>\n",
       "      <td>Fuck you you fucking pig!\\n\\nYou motherfucking...</td>\n",
       "      <td>0.998329</td>\n",
       "      <td>1</td>\n",
       "      <td>0</td>\n",
       "      <td>1</td>\n",
       "      <td>0</td>\n",
       "      <td>1</td>\n",
       "      <td>0</td>\n",
       "    </tr>\n",
       "  </tbody>\n",
       "</table>\n",
       "<p>41338 rows × 9 columns</p>\n",
       "</div>"
      ],
      "text/plain": [
       "                     id                                       comment_text  \\\n",
       "1158   61a85266de70cca0                         Можешь говорить по русски.   \n",
       "5246   030a9ba0b32b4456  Rodzina Krusenstern Potomkowie Admirała Adama ...   \n",
       "11040  a6814193ac6b4705  The opening paragraph states that the game is ...   \n",
       "24192  f0d6dee96e057a5b  The book is used as a source in a number of ar...   \n",
       "2332   cbb9268d3c7429c1     Vals Vienés \\n |Rumba \\n |Cha Cha Chá(ciclo 7)   \n",
       "...                 ...                                                ...   \n",
       "19994  1429a2c930688317                          you fucking piece of shit   \n",
       "28728  d82e45eb103ad07b                   fuck off you stupid aspy asshole   \n",
       "25535  e9b92c6c6b01aeef  FUCK YOU YOU PIECE OF SHIT \\n FUCK YOU YOU PIE...   \n",
       "25945  e783fd267f3a9d3b  FUCK WIKIPEDIA ON WHEELS! \\n\\nFuck off wikiped...   \n",
       "17833  364b6c24210e2345  Fuck you you fucking pig!\\n\\nYou motherfucking...   \n",
       "\n",
       "          score  toxic  severe_toxic  obscene  threat  insult  identity_hate  \n",
       "1158   0.000004      0             0        0       0       0              0  \n",
       "5246   0.000009      0             0        0       0       0              0  \n",
       "11040  0.000091      0             0        0       0       0              0  \n",
       "24192  0.000116      0             0        0       0       0              0  \n",
       "2332   0.000131      0             0        0       0       0              0  \n",
       "...         ...    ...           ...      ...     ...     ...            ...  \n",
       "19994  0.997278      1             1        1       0       1              0  \n",
       "28728  0.997736      1             1        1       0       1              0  \n",
       "25535  0.997982      1             1        1       0       1              0  \n",
       "25945  0.998136      1             1        1       0       1              0  \n",
       "17833  0.998329      1             0        1       0       1              0  \n",
       "\n",
       "[41338 rows x 9 columns]"
      ]
     },
     "execution_count": 171,
     "metadata": {},
     "output_type": "execute_result"
    }
   ],
   "source": [
    "df.sort_values(['score'])"
   ]
  },
  {
   "cell_type": "markdown",
   "metadata": {},
   "source": [
    "I've also included a function to make calls to the Perspective API for your own testing. You will need to generate your own API key according to the instructions in the assignment."
   ]
  },
  {
   "cell_type": "code",
   "execution_count": 172,
   "metadata": {},
   "outputs": [],
   "source": [
    "from googleapiclient.discovery import build\n",
    "import json\n",
    "\n",
    "def get_toxicity_score(comment):\n",
    "    \n",
    "  API_KEY = '' # Put your API key here\n",
    "    \n",
    "  client = build(\n",
    "  \"commentanalyzer\",\n",
    "  \"v1alpha1\",\n",
    "  developerKey=API_KEY,\n",
    "  discoveryServiceUrl=\"https://commentanalyzer.googleapis.com/$discovery/rest?version=v1alpha1\",\n",
    "  static_discovery=False,\n",
    "  )\n",
    "\n",
    "  analyze_request = {\n",
    "  'comment': { 'text': comment },\n",
    "  'requestedAttributes': {'TOXICITY': {}}\n",
    "  }\n",
    "    \n",
    "  response = client.comments().analyze(body=analyze_request).execute()\n",
    "  toxicity_score = response[\"attributeScores\"][\"TOXICITY\"][\"summaryScore\"][\"value\"]\n",
    "    \n",
    "  return toxicity_score"
   ]
  },
  {
   "cell_type": "code",
   "execution_count": 173,
   "metadata": {},
   "outputs": [
    {
     "data": {
      "text/html": [
       "<div>\n",
       "<style scoped>\n",
       "    .dataframe tbody tr th:only-of-type {\n",
       "        vertical-align: middle;\n",
       "    }\n",
       "\n",
       "    .dataframe tbody tr th {\n",
       "        vertical-align: top;\n",
       "    }\n",
       "\n",
       "    .dataframe thead th {\n",
       "        text-align: right;\n",
       "    }\n",
       "</style>\n",
       "<table border=\"1\" class=\"dataframe\">\n",
       "  <thead>\n",
       "    <tr style=\"text-align: right;\">\n",
       "      <th></th>\n",
       "      <th>id</th>\n",
       "      <th>comment_text</th>\n",
       "      <th>score</th>\n",
       "      <th>toxic</th>\n",
       "      <th>severe_toxic</th>\n",
       "      <th>obscene</th>\n",
       "      <th>threat</th>\n",
       "      <th>insult</th>\n",
       "      <th>identity_hate</th>\n",
       "    </tr>\n",
       "  </thead>\n",
       "  <tbody>\n",
       "    <tr>\n",
       "      <th>0</th>\n",
       "      <td>0001ea8717f6de06</td>\n",
       "      <td>Thank you for understanding. I think very high...</td>\n",
       "      <td>0.075638</td>\n",
       "      <td>0</td>\n",
       "      <td>0</td>\n",
       "      <td>0</td>\n",
       "      <td>0</td>\n",
       "      <td>0</td>\n",
       "      <td>0</td>\n",
       "    </tr>\n",
       "    <tr>\n",
       "      <th>1</th>\n",
       "      <td>000247e83dcc1211</td>\n",
       "      <td>:Dear god this site is horrible.</td>\n",
       "      <td>0.450459</td>\n",
       "      <td>0</td>\n",
       "      <td>0</td>\n",
       "      <td>0</td>\n",
       "      <td>0</td>\n",
       "      <td>0</td>\n",
       "      <td>0</td>\n",
       "    </tr>\n",
       "    <tr>\n",
       "      <th>2</th>\n",
       "      <td>0002f87b16116a7f</td>\n",
       "      <td>\"::: Somebody will invariably try to add Relig...</td>\n",
       "      <td>0.667964</td>\n",
       "      <td>0</td>\n",
       "      <td>0</td>\n",
       "      <td>0</td>\n",
       "      <td>0</td>\n",
       "      <td>0</td>\n",
       "      <td>0</td>\n",
       "    </tr>\n",
       "    <tr>\n",
       "      <th>3</th>\n",
       "      <td>0003e1cccfd5a40a</td>\n",
       "      <td>\" \\n\\n It says it right there that it IS a typ...</td>\n",
       "      <td>0.068434</td>\n",
       "      <td>0</td>\n",
       "      <td>0</td>\n",
       "      <td>0</td>\n",
       "      <td>0</td>\n",
       "      <td>0</td>\n",
       "      <td>0</td>\n",
       "    </tr>\n",
       "    <tr>\n",
       "      <th>4</th>\n",
       "      <td>00059ace3e3e9a53</td>\n",
       "      <td>\" \\n\\n == Before adding a new product to the l...</td>\n",
       "      <td>0.151724</td>\n",
       "      <td>0</td>\n",
       "      <td>0</td>\n",
       "      <td>0</td>\n",
       "      <td>0</td>\n",
       "      <td>0</td>\n",
       "      <td>0</td>\n",
       "    </tr>\n",
       "  </tbody>\n",
       "</table>\n",
       "</div>"
      ],
      "text/plain": [
       "                 id                                       comment_text  \\\n",
       "0  0001ea8717f6de06  Thank you for understanding. I think very high...   \n",
       "1  000247e83dcc1211                   :Dear god this site is horrible.   \n",
       "2  0002f87b16116a7f  \"::: Somebody will invariably try to add Relig...   \n",
       "3  0003e1cccfd5a40a  \" \\n\\n It says it right there that it IS a typ...   \n",
       "4  00059ace3e3e9a53  \" \\n\\n == Before adding a new product to the l...   \n",
       "\n",
       "      score  toxic  severe_toxic  obscene  threat  insult  identity_hate  \n",
       "0  0.075638      0             0        0       0       0              0  \n",
       "1  0.450459      0             0        0       0       0              0  \n",
       "2  0.667964      0             0        0       0       0              0  \n",
       "3  0.068434      0             0        0       0       0              0  \n",
       "4  0.151724      0             0        0       0       0              0  "
      ]
     },
     "execution_count": 173,
     "metadata": {},
     "output_type": "execute_result"
    }
   ],
   "source": [
    "df.head()"
   ]
  },
  {
   "cell_type": "markdown",
   "metadata": {},
   "source": [
    "Take a look at the first 5 rows from the dataset."
   ]
  },
  {
   "cell_type": "code",
   "execution_count": 174,
   "metadata": {},
   "outputs": [
    {
     "data": {
      "text/html": [
       "<div>\n",
       "<style scoped>\n",
       "    .dataframe tbody tr th:only-of-type {\n",
       "        vertical-align: middle;\n",
       "    }\n",
       "\n",
       "    .dataframe tbody tr th {\n",
       "        vertical-align: top;\n",
       "    }\n",
       "\n",
       "    .dataframe thead th {\n",
       "        text-align: right;\n",
       "    }\n",
       "</style>\n",
       "<table border=\"1\" class=\"dataframe\">\n",
       "  <thead>\n",
       "    <tr style=\"text-align: right;\">\n",
       "      <th></th>\n",
       "      <th>score</th>\n",
       "      <th>toxic</th>\n",
       "      <th>severe_toxic</th>\n",
       "      <th>obscene</th>\n",
       "      <th>threat</th>\n",
       "      <th>insult</th>\n",
       "      <th>identity_hate</th>\n",
       "    </tr>\n",
       "  </thead>\n",
       "  <tbody>\n",
       "    <tr>\n",
       "      <th>count</th>\n",
       "      <td>41338.000000</td>\n",
       "      <td>41338.000000</td>\n",
       "      <td>41338.000000</td>\n",
       "      <td>41338.000000</td>\n",
       "      <td>41338.000000</td>\n",
       "      <td>41338.000000</td>\n",
       "      <td>41338.000000</td>\n",
       "    </tr>\n",
       "    <tr>\n",
       "      <th>mean</th>\n",
       "      <td>0.244467</td>\n",
       "      <td>0.095384</td>\n",
       "      <td>0.009168</td>\n",
       "      <td>0.053050</td>\n",
       "      <td>0.003024</td>\n",
       "      <td>0.049809</td>\n",
       "      <td>0.009725</td>\n",
       "    </tr>\n",
       "    <tr>\n",
       "      <th>std</th>\n",
       "      <td>0.257221</td>\n",
       "      <td>0.293749</td>\n",
       "      <td>0.095313</td>\n",
       "      <td>0.224137</td>\n",
       "      <td>0.054907</td>\n",
       "      <td>0.217553</td>\n",
       "      <td>0.098134</td>\n",
       "    </tr>\n",
       "    <tr>\n",
       "      <th>min</th>\n",
       "      <td>0.000004</td>\n",
       "      <td>0.000000</td>\n",
       "      <td>0.000000</td>\n",
       "      <td>0.000000</td>\n",
       "      <td>0.000000</td>\n",
       "      <td>0.000000</td>\n",
       "      <td>0.000000</td>\n",
       "    </tr>\n",
       "    <tr>\n",
       "      <th>25%</th>\n",
       "      <td>0.074772</td>\n",
       "      <td>0.000000</td>\n",
       "      <td>0.000000</td>\n",
       "      <td>0.000000</td>\n",
       "      <td>0.000000</td>\n",
       "      <td>0.000000</td>\n",
       "      <td>0.000000</td>\n",
       "    </tr>\n",
       "    <tr>\n",
       "      <th>50%</th>\n",
       "      <td>0.128969</td>\n",
       "      <td>0.000000</td>\n",
       "      <td>0.000000</td>\n",
       "      <td>0.000000</td>\n",
       "      <td>0.000000</td>\n",
       "      <td>0.000000</td>\n",
       "      <td>0.000000</td>\n",
       "    </tr>\n",
       "    <tr>\n",
       "      <th>75%</th>\n",
       "      <td>0.310894</td>\n",
       "      <td>0.000000</td>\n",
       "      <td>0.000000</td>\n",
       "      <td>0.000000</td>\n",
       "      <td>0.000000</td>\n",
       "      <td>0.000000</td>\n",
       "      <td>0.000000</td>\n",
       "    </tr>\n",
       "    <tr>\n",
       "      <th>max</th>\n",
       "      <td>0.998329</td>\n",
       "      <td>1.000000</td>\n",
       "      <td>1.000000</td>\n",
       "      <td>1.000000</td>\n",
       "      <td>1.000000</td>\n",
       "      <td>1.000000</td>\n",
       "      <td>1.000000</td>\n",
       "    </tr>\n",
       "  </tbody>\n",
       "</table>\n",
       "</div>"
      ],
      "text/plain": [
       "              score         toxic  severe_toxic       obscene        threat  \\\n",
       "count  41338.000000  41338.000000  41338.000000  41338.000000  41338.000000   \n",
       "mean       0.244467      0.095384      0.009168      0.053050      0.003024   \n",
       "std        0.257221      0.293749      0.095313      0.224137      0.054907   \n",
       "min        0.000004      0.000000      0.000000      0.000000      0.000000   \n",
       "25%        0.074772      0.000000      0.000000      0.000000      0.000000   \n",
       "50%        0.128969      0.000000      0.000000      0.000000      0.000000   \n",
       "75%        0.310894      0.000000      0.000000      0.000000      0.000000   \n",
       "max        0.998329      1.000000      1.000000      1.000000      1.000000   \n",
       "\n",
       "             insult  identity_hate  \n",
       "count  41338.000000   41338.000000  \n",
       "mean       0.049809       0.009725  \n",
       "std        0.217553       0.098134  \n",
       "min        0.000000       0.000000  \n",
       "25%        0.000000       0.000000  \n",
       "50%        0.000000       0.000000  \n",
       "75%        0.000000       0.000000  \n",
       "max        1.000000       1.000000  "
      ]
     },
     "execution_count": 174,
     "metadata": {},
     "output_type": "execute_result"
    }
   ],
   "source": [
    "df.describe()"
   ]
  },
  {
   "cell_type": "markdown",
   "metadata": {},
   "source": [
    "Gain a general look on the dataset."
   ]
  },
  {
   "cell_type": "code",
   "execution_count": 175,
   "metadata": {
    "scrolled": true
   },
   "outputs": [
    {
     "data": {
      "text/html": [
       "<div>\n",
       "<style scoped>\n",
       "    .dataframe tbody tr th:only-of-type {\n",
       "        vertical-align: middle;\n",
       "    }\n",
       "\n",
       "    .dataframe tbody tr th {\n",
       "        vertical-align: top;\n",
       "    }\n",
       "\n",
       "    .dataframe thead th {\n",
       "        text-align: right;\n",
       "    }\n",
       "</style>\n",
       "<table border=\"1\" class=\"dataframe\">\n",
       "  <thead>\n",
       "    <tr style=\"text-align: right;\">\n",
       "      <th></th>\n",
       "      <th>id</th>\n",
       "      <th>comment_text</th>\n",
       "      <th>score</th>\n",
       "      <th>toxic</th>\n",
       "      <th>severe_toxic</th>\n",
       "      <th>obscene</th>\n",
       "      <th>threat</th>\n",
       "      <th>insult</th>\n",
       "      <th>identity_hate</th>\n",
       "    </tr>\n",
       "  </thead>\n",
       "  <tbody>\n",
       "    <tr>\n",
       "      <th>24</th>\n",
       "      <td>0013fed3aeae76b7</td>\n",
       "      <td>DJ Robinson is gay as hell! he sucks his dick ...</td>\n",
       "      <td>0.989706</td>\n",
       "      <td>1</td>\n",
       "      <td>0</td>\n",
       "      <td>1</td>\n",
       "      <td>0</td>\n",
       "      <td>1</td>\n",
       "      <td>1</td>\n",
       "    </tr>\n",
       "    <tr>\n",
       "      <th>29</th>\n",
       "      <td>0017d4d47894af05</td>\n",
       "      <td>:Fuck off, you anti-semitic cunt.  |</td>\n",
       "      <td>0.959459</td>\n",
       "      <td>1</td>\n",
       "      <td>0</td>\n",
       "      <td>1</td>\n",
       "      <td>0</td>\n",
       "      <td>1</td>\n",
       "      <td>0</td>\n",
       "    </tr>\n",
       "    <tr>\n",
       "      <th>38</th>\n",
       "      <td>001eff4007dbb65b</td>\n",
       "      <td>::No, he is an arrogant, self serving, immatur...</td>\n",
       "      <td>0.956893</td>\n",
       "      <td>1</td>\n",
       "      <td>0</td>\n",
       "      <td>1</td>\n",
       "      <td>0</td>\n",
       "      <td>1</td>\n",
       "      <td>0</td>\n",
       "    </tr>\n",
       "    <tr>\n",
       "      <th>59</th>\n",
       "      <td>03c1c7a2649a7d87</td>\n",
       "      <td>:::Jeez Ed, you seem like a fucking shitty dou...</td>\n",
       "      <td>0.992469</td>\n",
       "      <td>1</td>\n",
       "      <td>0</td>\n",
       "      <td>1</td>\n",
       "      <td>0</td>\n",
       "      <td>1</td>\n",
       "      <td>0</td>\n",
       "    </tr>\n",
       "    <tr>\n",
       "      <th>62</th>\n",
       "      <td>03c6344729c4e665</td>\n",
       "      <td>Azerbaijanis Proud of Ramil Safarov  \\n If I h...</td>\n",
       "      <td>0.980994</td>\n",
       "      <td>1</td>\n",
       "      <td>0</td>\n",
       "      <td>1</td>\n",
       "      <td>1</td>\n",
       "      <td>1</td>\n",
       "      <td>1</td>\n",
       "    </tr>\n",
       "    <tr>\n",
       "      <th>...</th>\n",
       "      <td>...</td>\n",
       "      <td>...</td>\n",
       "      <td>...</td>\n",
       "      <td>...</td>\n",
       "      <td>...</td>\n",
       "      <td>...</td>\n",
       "      <td>...</td>\n",
       "      <td>...</td>\n",
       "      <td>...</td>\n",
       "    </tr>\n",
       "    <tr>\n",
       "      <th>41230</th>\n",
       "      <td>950289915676e6d7</td>\n",
       "      <td>you stink shoo woo woo</td>\n",
       "      <td>0.860626</td>\n",
       "      <td>1</td>\n",
       "      <td>0</td>\n",
       "      <td>0</td>\n",
       "      <td>0</td>\n",
       "      <td>1</td>\n",
       "      <td>0</td>\n",
       "    </tr>\n",
       "    <tr>\n",
       "      <th>41237</th>\n",
       "      <td>94f8578325d529ad</td>\n",
       "      <td>LMAO WHAT WEAK THREATS, I HAVENT BEEN BANNED Y...</td>\n",
       "      <td>0.945277</td>\n",
       "      <td>1</td>\n",
       "      <td>1</td>\n",
       "      <td>1</td>\n",
       "      <td>0</td>\n",
       "      <td>1</td>\n",
       "      <td>0</td>\n",
       "    </tr>\n",
       "    <tr>\n",
       "      <th>41238</th>\n",
       "      <td>94f8302c2e339bae</td>\n",
       "      <td>THIS IS AWFUL, JUST AWFUL!!! ALL GERMANS ARE M...</td>\n",
       "      <td>0.878531</td>\n",
       "      <td>1</td>\n",
       "      <td>0</td>\n",
       "      <td>1</td>\n",
       "      <td>0</td>\n",
       "      <td>1</td>\n",
       "      <td>1</td>\n",
       "    </tr>\n",
       "    <tr>\n",
       "      <th>41290</th>\n",
       "      <td>94aca26c29f7a0bd</td>\n",
       "      <td>Hypocritical, double standard admins, as typic...</td>\n",
       "      <td>0.833779</td>\n",
       "      <td>0</td>\n",
       "      <td>0</td>\n",
       "      <td>0</td>\n",
       "      <td>0</td>\n",
       "      <td>1</td>\n",
       "      <td>0</td>\n",
       "    </tr>\n",
       "    <tr>\n",
       "      <th>41299</th>\n",
       "      <td>94a5024323152cd1</td>\n",
       "      <td>==Why does it bother you, fuckface?89.123.100....</td>\n",
       "      <td>0.989706</td>\n",
       "      <td>1</td>\n",
       "      <td>0</td>\n",
       "      <td>1</td>\n",
       "      <td>0</td>\n",
       "      <td>1</td>\n",
       "      <td>0</td>\n",
       "    </tr>\n",
       "  </tbody>\n",
       "</table>\n",
       "<p>2059 rows × 9 columns</p>\n",
       "</div>"
      ],
      "text/plain": [
       "                     id                                       comment_text  \\\n",
       "24     0013fed3aeae76b7  DJ Robinson is gay as hell! he sucks his dick ...   \n",
       "29     0017d4d47894af05               :Fuck off, you anti-semitic cunt.  |   \n",
       "38     001eff4007dbb65b  ::No, he is an arrogant, self serving, immatur...   \n",
       "59     03c1c7a2649a7d87  :::Jeez Ed, you seem like a fucking shitty dou...   \n",
       "62     03c6344729c4e665  Azerbaijanis Proud of Ramil Safarov  \\n If I h...   \n",
       "...                 ...                                                ...   \n",
       "41230  950289915676e6d7                             you stink shoo woo woo   \n",
       "41237  94f8578325d529ad  LMAO WHAT WEAK THREATS, I HAVENT BEEN BANNED Y...   \n",
       "41238  94f8302c2e339bae  THIS IS AWFUL, JUST AWFUL!!! ALL GERMANS ARE M...   \n",
       "41290  94aca26c29f7a0bd  Hypocritical, double standard admins, as typic...   \n",
       "41299  94a5024323152cd1  ==Why does it bother you, fuckface?89.123.100....   \n",
       "\n",
       "          score  toxic  severe_toxic  obscene  threat  insult  identity_hate  \n",
       "24     0.989706      1             0        1       0       1              1  \n",
       "29     0.959459      1             0        1       0       1              0  \n",
       "38     0.956893      1             0        1       0       1              0  \n",
       "59     0.992469      1             0        1       0       1              0  \n",
       "62     0.980994      1             0        1       1       1              1  \n",
       "...         ...    ...           ...      ...     ...     ...            ...  \n",
       "41230  0.860626      1             0        0       0       1              0  \n",
       "41237  0.945277      1             1        1       0       1              0  \n",
       "41238  0.878531      1             0        1       0       1              1  \n",
       "41290  0.833779      0             0        0       0       1              0  \n",
       "41299  0.989706      1             0        1       0       1              0  \n",
       "\n",
       "[2059 rows x 9 columns]"
      ]
     },
     "execution_count": 175,
     "metadata": {},
     "output_type": "execute_result"
    }
   ],
   "source": [
    "insult_df = df[df['insult']==1]\n",
    "insult_df"
   ]
  },
  {
   "cell_type": "code",
   "execution_count": 176,
   "metadata": {},
   "outputs": [
    {
     "data": {
      "text/html": [
       "<div>\n",
       "<style scoped>\n",
       "    .dataframe tbody tr th:only-of-type {\n",
       "        vertical-align: middle;\n",
       "    }\n",
       "\n",
       "    .dataframe tbody tr th {\n",
       "        vertical-align: top;\n",
       "    }\n",
       "\n",
       "    .dataframe thead th {\n",
       "        text-align: right;\n",
       "    }\n",
       "</style>\n",
       "<table border=\"1\" class=\"dataframe\">\n",
       "  <thead>\n",
       "    <tr style=\"text-align: right;\">\n",
       "      <th></th>\n",
       "      <th>id</th>\n",
       "      <th>comment_text</th>\n",
       "      <th>score</th>\n",
       "      <th>toxic</th>\n",
       "      <th>severe_toxic</th>\n",
       "      <th>obscene</th>\n",
       "      <th>threat</th>\n",
       "      <th>insult</th>\n",
       "      <th>identity_hate</th>\n",
       "    </tr>\n",
       "  </thead>\n",
       "  <tbody>\n",
       "    <tr>\n",
       "      <th>8</th>\n",
       "      <td>00091c35fa9d0465</td>\n",
       "      <td>== Arabs are committing genocide in Iraq, but ...</td>\n",
       "      <td>0.635929</td>\n",
       "      <td>1</td>\n",
       "      <td>0</td>\n",
       "      <td>0</td>\n",
       "      <td>0</td>\n",
       "      <td>0</td>\n",
       "      <td>0</td>\n",
       "    </tr>\n",
       "    <tr>\n",
       "      <th>24</th>\n",
       "      <td>0013fed3aeae76b7</td>\n",
       "      <td>DJ Robinson is gay as hell! he sucks his dick ...</td>\n",
       "      <td>0.989706</td>\n",
       "      <td>1</td>\n",
       "      <td>0</td>\n",
       "      <td>1</td>\n",
       "      <td>0</td>\n",
       "      <td>1</td>\n",
       "      <td>1</td>\n",
       "    </tr>\n",
       "    <tr>\n",
       "      <th>29</th>\n",
       "      <td>0017d4d47894af05</td>\n",
       "      <td>:Fuck off, you anti-semitic cunt.  |</td>\n",
       "      <td>0.959459</td>\n",
       "      <td>1</td>\n",
       "      <td>0</td>\n",
       "      <td>1</td>\n",
       "      <td>0</td>\n",
       "      <td>1</td>\n",
       "      <td>0</td>\n",
       "    </tr>\n",
       "    <tr>\n",
       "      <th>37</th>\n",
       "      <td>001d739c97bc2ae4</td>\n",
       "      <td>How dare you vandalize that page about the HMS...</td>\n",
       "      <td>0.564152</td>\n",
       "      <td>1</td>\n",
       "      <td>0</td>\n",
       "      <td>0</td>\n",
       "      <td>0</td>\n",
       "      <td>0</td>\n",
       "      <td>0</td>\n",
       "    </tr>\n",
       "    <tr>\n",
       "      <th>38</th>\n",
       "      <td>001eff4007dbb65b</td>\n",
       "      <td>::No, he is an arrogant, self serving, immatur...</td>\n",
       "      <td>0.956893</td>\n",
       "      <td>1</td>\n",
       "      <td>0</td>\n",
       "      <td>1</td>\n",
       "      <td>0</td>\n",
       "      <td>1</td>\n",
       "      <td>0</td>\n",
       "    </tr>\n",
       "    <tr>\n",
       "      <th>...</th>\n",
       "      <td>...</td>\n",
       "      <td>...</td>\n",
       "      <td>...</td>\n",
       "      <td>...</td>\n",
       "      <td>...</td>\n",
       "      <td>...</td>\n",
       "      <td>...</td>\n",
       "      <td>...</td>\n",
       "      <td>...</td>\n",
       "    </tr>\n",
       "    <tr>\n",
       "      <th>41297</th>\n",
       "      <td>94a6beeb87ab68c0</td>\n",
       "      <td>Damn, those are some rancid sources.</td>\n",
       "      <td>0.821990</td>\n",
       "      <td>1</td>\n",
       "      <td>0</td>\n",
       "      <td>1</td>\n",
       "      <td>0</td>\n",
       "      <td>0</td>\n",
       "      <td>0</td>\n",
       "    </tr>\n",
       "    <tr>\n",
       "      <th>41299</th>\n",
       "      <td>94a5024323152cd1</td>\n",
       "      <td>==Why does it bother you, fuckface?89.123.100....</td>\n",
       "      <td>0.989706</td>\n",
       "      <td>1</td>\n",
       "      <td>0</td>\n",
       "      <td>1</td>\n",
       "      <td>0</td>\n",
       "      <td>1</td>\n",
       "      <td>0</td>\n",
       "    </tr>\n",
       "    <tr>\n",
       "      <th>41325</th>\n",
       "      <td>948cb4052152869b</td>\n",
       "      <td>WHAT?  That's past stuff.  Stop being an insti...</td>\n",
       "      <td>0.515460</td>\n",
       "      <td>1</td>\n",
       "      <td>0</td>\n",
       "      <td>0</td>\n",
       "      <td>0</td>\n",
       "      <td>0</td>\n",
       "      <td>0</td>\n",
       "    </tr>\n",
       "    <tr>\n",
       "      <th>41332</th>\n",
       "      <td>9481cd7393b583c9</td>\n",
       "      <td>RE: \\n\\nIt's a fucking album cover, how the fu...</td>\n",
       "      <td>0.932649</td>\n",
       "      <td>1</td>\n",
       "      <td>0</td>\n",
       "      <td>1</td>\n",
       "      <td>0</td>\n",
       "      <td>0</td>\n",
       "      <td>0</td>\n",
       "    </tr>\n",
       "    <tr>\n",
       "      <th>41333</th>\n",
       "      <td>9480bff99f91a69e</td>\n",
       "      <td>Lesbian Teenager \\nHow about the fact she was ...</td>\n",
       "      <td>0.797672</td>\n",
       "      <td>1</td>\n",
       "      <td>0</td>\n",
       "      <td>0</td>\n",
       "      <td>0</td>\n",
       "      <td>0</td>\n",
       "      <td>0</td>\n",
       "    </tr>\n",
       "  </tbody>\n",
       "</table>\n",
       "<p>3943 rows × 9 columns</p>\n",
       "</div>"
      ],
      "text/plain": [
       "                     id                                       comment_text  \\\n",
       "8      00091c35fa9d0465  == Arabs are committing genocide in Iraq, but ...   \n",
       "24     0013fed3aeae76b7  DJ Robinson is gay as hell! he sucks his dick ...   \n",
       "29     0017d4d47894af05               :Fuck off, you anti-semitic cunt.  |   \n",
       "37     001d739c97bc2ae4  How dare you vandalize that page about the HMS...   \n",
       "38     001eff4007dbb65b  ::No, he is an arrogant, self serving, immatur...   \n",
       "...                 ...                                                ...   \n",
       "41297  94a6beeb87ab68c0               Damn, those are some rancid sources.   \n",
       "41299  94a5024323152cd1  ==Why does it bother you, fuckface?89.123.100....   \n",
       "41325  948cb4052152869b  WHAT?  That's past stuff.  Stop being an insti...   \n",
       "41332  9481cd7393b583c9  RE: \\n\\nIt's a fucking album cover, how the fu...   \n",
       "41333  9480bff99f91a69e  Lesbian Teenager \\nHow about the fact she was ...   \n",
       "\n",
       "          score  toxic  severe_toxic  obscene  threat  insult  identity_hate  \n",
       "8      0.635929      1             0        0       0       0              0  \n",
       "24     0.989706      1             0        1       0       1              1  \n",
       "29     0.959459      1             0        1       0       1              0  \n",
       "37     0.564152      1             0        0       0       0              0  \n",
       "38     0.956893      1             0        1       0       1              0  \n",
       "...         ...    ...           ...      ...     ...     ...            ...  \n",
       "41297  0.821990      1             0        1       0       0              0  \n",
       "41299  0.989706      1             0        1       0       1              0  \n",
       "41325  0.515460      1             0        0       0       0              0  \n",
       "41332  0.932649      1             0        1       0       0              0  \n",
       "41333  0.797672      1             0        0       0       0              0  \n",
       "\n",
       "[3943 rows x 9 columns]"
      ]
     },
     "execution_count": 176,
     "metadata": {},
     "output_type": "execute_result"
    }
   ],
   "source": [
    "toxic_df = df[df['toxic']==1]\n",
    "toxic_df"
   ]
  },
  {
   "cell_type": "code",
   "execution_count": 177,
   "metadata": {},
   "outputs": [
    {
     "data": {
      "text/html": [
       "<div>\n",
       "<style scoped>\n",
       "    .dataframe tbody tr th:only-of-type {\n",
       "        vertical-align: middle;\n",
       "    }\n",
       "\n",
       "    .dataframe tbody tr th {\n",
       "        vertical-align: top;\n",
       "    }\n",
       "\n",
       "    .dataframe thead th {\n",
       "        text-align: right;\n",
       "    }\n",
       "</style>\n",
       "<table border=\"1\" class=\"dataframe\">\n",
       "  <thead>\n",
       "    <tr style=\"text-align: right;\">\n",
       "      <th></th>\n",
       "      <th>id</th>\n",
       "      <th>comment_text</th>\n",
       "      <th>score</th>\n",
       "      <th>toxic</th>\n",
       "      <th>severe_toxic</th>\n",
       "      <th>obscene</th>\n",
       "      <th>threat</th>\n",
       "      <th>insult</th>\n",
       "      <th>identity_hate</th>\n",
       "    </tr>\n",
       "  </thead>\n",
       "  <tbody>\n",
       "    <tr>\n",
       "      <th>24</th>\n",
       "      <td>0013fed3aeae76b7</td>\n",
       "      <td>DJ Robinson is gay as hell! he sucks his dick ...</td>\n",
       "      <td>0.989706</td>\n",
       "      <td>1</td>\n",
       "      <td>0</td>\n",
       "      <td>1</td>\n",
       "      <td>0</td>\n",
       "      <td>1</td>\n",
       "      <td>1</td>\n",
       "    </tr>\n",
       "    <tr>\n",
       "      <th>29</th>\n",
       "      <td>0017d4d47894af05</td>\n",
       "      <td>:Fuck off, you anti-semitic cunt.  |</td>\n",
       "      <td>0.959459</td>\n",
       "      <td>1</td>\n",
       "      <td>0</td>\n",
       "      <td>1</td>\n",
       "      <td>0</td>\n",
       "      <td>1</td>\n",
       "      <td>0</td>\n",
       "    </tr>\n",
       "    <tr>\n",
       "      <th>38</th>\n",
       "      <td>001eff4007dbb65b</td>\n",
       "      <td>::No, he is an arrogant, self serving, immatur...</td>\n",
       "      <td>0.956893</td>\n",
       "      <td>1</td>\n",
       "      <td>0</td>\n",
       "      <td>1</td>\n",
       "      <td>0</td>\n",
       "      <td>1</td>\n",
       "      <td>0</td>\n",
       "    </tr>\n",
       "    <tr>\n",
       "      <th>59</th>\n",
       "      <td>03c1c7a2649a7d87</td>\n",
       "      <td>:::Jeez Ed, you seem like a fucking shitty dou...</td>\n",
       "      <td>0.992469</td>\n",
       "      <td>1</td>\n",
       "      <td>0</td>\n",
       "      <td>1</td>\n",
       "      <td>0</td>\n",
       "      <td>1</td>\n",
       "      <td>0</td>\n",
       "    </tr>\n",
       "    <tr>\n",
       "      <th>62</th>\n",
       "      <td>03c6344729c4e665</td>\n",
       "      <td>Azerbaijanis Proud of Ramil Safarov  \\n If I h...</td>\n",
       "      <td>0.980994</td>\n",
       "      <td>1</td>\n",
       "      <td>0</td>\n",
       "      <td>1</td>\n",
       "      <td>1</td>\n",
       "      <td>1</td>\n",
       "      <td>1</td>\n",
       "    </tr>\n",
       "    <tr>\n",
       "      <th>...</th>\n",
       "      <td>...</td>\n",
       "      <td>...</td>\n",
       "      <td>...</td>\n",
       "      <td>...</td>\n",
       "      <td>...</td>\n",
       "      <td>...</td>\n",
       "      <td>...</td>\n",
       "      <td>...</td>\n",
       "      <td>...</td>\n",
       "    </tr>\n",
       "    <tr>\n",
       "      <th>41209</th>\n",
       "      <td>9513624a1e1a84cf</td>\n",
       "      <td>SparkyFox: Fuck you asswipes</td>\n",
       "      <td>0.981012</td>\n",
       "      <td>1</td>\n",
       "      <td>0</td>\n",
       "      <td>1</td>\n",
       "      <td>0</td>\n",
       "      <td>1</td>\n",
       "      <td>0</td>\n",
       "    </tr>\n",
       "    <tr>\n",
       "      <th>41230</th>\n",
       "      <td>950289915676e6d7</td>\n",
       "      <td>you stink shoo woo woo</td>\n",
       "      <td>0.860626</td>\n",
       "      <td>1</td>\n",
       "      <td>0</td>\n",
       "      <td>0</td>\n",
       "      <td>0</td>\n",
       "      <td>1</td>\n",
       "      <td>0</td>\n",
       "    </tr>\n",
       "    <tr>\n",
       "      <th>41237</th>\n",
       "      <td>94f8578325d529ad</td>\n",
       "      <td>LMAO WHAT WEAK THREATS, I HAVENT BEEN BANNED Y...</td>\n",
       "      <td>0.945277</td>\n",
       "      <td>1</td>\n",
       "      <td>1</td>\n",
       "      <td>1</td>\n",
       "      <td>0</td>\n",
       "      <td>1</td>\n",
       "      <td>0</td>\n",
       "    </tr>\n",
       "    <tr>\n",
       "      <th>41238</th>\n",
       "      <td>94f8302c2e339bae</td>\n",
       "      <td>THIS IS AWFUL, JUST AWFUL!!! ALL GERMANS ARE M...</td>\n",
       "      <td>0.878531</td>\n",
       "      <td>1</td>\n",
       "      <td>0</td>\n",
       "      <td>1</td>\n",
       "      <td>0</td>\n",
       "      <td>1</td>\n",
       "      <td>1</td>\n",
       "    </tr>\n",
       "    <tr>\n",
       "      <th>41299</th>\n",
       "      <td>94a5024323152cd1</td>\n",
       "      <td>==Why does it bother you, fuckface?89.123.100....</td>\n",
       "      <td>0.989706</td>\n",
       "      <td>1</td>\n",
       "      <td>0</td>\n",
       "      <td>1</td>\n",
       "      <td>0</td>\n",
       "      <td>1</td>\n",
       "      <td>0</td>\n",
       "    </tr>\n",
       "  </tbody>\n",
       "</table>\n",
       "<p>1923 rows × 9 columns</p>\n",
       "</div>"
      ],
      "text/plain": [
       "                     id                                       comment_text  \\\n",
       "24     0013fed3aeae76b7  DJ Robinson is gay as hell! he sucks his dick ...   \n",
       "29     0017d4d47894af05               :Fuck off, you anti-semitic cunt.  |   \n",
       "38     001eff4007dbb65b  ::No, he is an arrogant, self serving, immatur...   \n",
       "59     03c1c7a2649a7d87  :::Jeez Ed, you seem like a fucking shitty dou...   \n",
       "62     03c6344729c4e665  Azerbaijanis Proud of Ramil Safarov  \\n If I h...   \n",
       "...                 ...                                                ...   \n",
       "41209  9513624a1e1a84cf                       SparkyFox: Fuck you asswipes   \n",
       "41230  950289915676e6d7                             you stink shoo woo woo   \n",
       "41237  94f8578325d529ad  LMAO WHAT WEAK THREATS, I HAVENT BEEN BANNED Y...   \n",
       "41238  94f8302c2e339bae  THIS IS AWFUL, JUST AWFUL!!! ALL GERMANS ARE M...   \n",
       "41299  94a5024323152cd1  ==Why does it bother you, fuckface?89.123.100....   \n",
       "\n",
       "          score  toxic  severe_toxic  obscene  threat  insult  identity_hate  \n",
       "24     0.989706      1             0        1       0       1              1  \n",
       "29     0.959459      1             0        1       0       1              0  \n",
       "38     0.956893      1             0        1       0       1              0  \n",
       "59     0.992469      1             0        1       0       1              0  \n",
       "62     0.980994      1             0        1       1       1              1  \n",
       "...         ...    ...           ...      ...     ...     ...            ...  \n",
       "41209  0.981012      1             0        1       0       1              0  \n",
       "41230  0.860626      1             0        0       0       1              0  \n",
       "41237  0.945277      1             1        1       0       1              0  \n",
       "41238  0.878531      1             0        1       0       1              1  \n",
       "41299  0.989706      1             0        1       0       1              0  \n",
       "\n",
       "[1923 rows x 9 columns]"
      ]
     },
     "execution_count": 177,
     "metadata": {},
     "output_type": "execute_result"
    }
   ],
   "source": [
    " df[(df['toxic'] & df['insult']) == 1]"
   ]
  },
  {
   "cell_type": "markdown",
   "metadata": {},
   "source": [
    "According to what got above, there are 1923 comments being identified both as toxic and insult comments, which is about 4.7% of the total numbers of comments."
   ]
  },
  {
   "cell_type": "code",
   "execution_count": 178,
   "metadata": {},
   "outputs": [],
   "source": [
    "new_set = df[(df['toxic'] & df['insult']) == 1]"
   ]
  },
  {
   "cell_type": "code",
   "execution_count": 179,
   "metadata": {},
   "outputs": [
    {
     "data": {
      "text/plain": [
       "<AxesSubplot:xlabel='id'>"
      ]
     },
     "execution_count": 179,
     "metadata": {},
     "output_type": "execute_result"
    },
    {
     "data": {
      "image/png": "[encoded data removed]",
      "text/plain": [
       "<Figure size 432x288 with 1 Axes>"
      ]
     },
     "metadata": {
      "needs_background": "light"
     },
     "output_type": "display_data"
    }
   ],
   "source": [
    "new_set.plot.bar(x='id', y='score')"
   ]
  },
  {
   "cell_type": "code",
   "execution_count": 180,
   "metadata": {},
   "outputs": [
    {
     "data": {
      "image/png": "[encoded data removed]",
      "text/plain": [
       "<Figure size 432x288 with 1 Axes>"
      ]
     },
     "metadata": {
      "needs_background": "light"
     },
     "output_type": "display_data"
    }
   ],
   "source": [
    "plt.hist(new_set['score'])\n",
    "plt.show()"
   ]
  },
  {
   "cell_type": "markdown",
   "metadata": {},
   "source": [
    "Visualize the selected data."
   ]
  },
  {
   "cell_type": "code",
   "execution_count": 181,
   "metadata": {
    "scrolled": true
   },
   "outputs": [
    {
     "data": {
      "text/html": [
       "<div>\n",
       "<style scoped>\n",
       "    .dataframe tbody tr th:only-of-type {\n",
       "        vertical-align: middle;\n",
       "    }\n",
       "\n",
       "    .dataframe tbody tr th {\n",
       "        vertical-align: top;\n",
       "    }\n",
       "\n",
       "    .dataframe thead th {\n",
       "        text-align: right;\n",
       "    }\n",
       "</style>\n",
       "<table border=\"1\" class=\"dataframe\">\n",
       "  <thead>\n",
       "    <tr style=\"text-align: right;\">\n",
       "      <th></th>\n",
       "      <th>score</th>\n",
       "      <th>toxic</th>\n",
       "      <th>severe_toxic</th>\n",
       "      <th>obscene</th>\n",
       "      <th>threat</th>\n",
       "      <th>insult</th>\n",
       "      <th>identity_hate</th>\n",
       "    </tr>\n",
       "  </thead>\n",
       "  <tbody>\n",
       "    <tr>\n",
       "      <th>count</th>\n",
       "      <td>1923.000000</td>\n",
       "      <td>1923.0</td>\n",
       "      <td>1923.000000</td>\n",
       "      <td>1923.000000</td>\n",
       "      <td>1923.000000</td>\n",
       "      <td>1923.0</td>\n",
       "      <td>1923.000000</td>\n",
       "    </tr>\n",
       "    <tr>\n",
       "      <th>mean</th>\n",
       "      <td>0.919526</td>\n",
       "      <td>1.0</td>\n",
       "      <td>0.170567</td>\n",
       "      <td>0.803952</td>\n",
       "      <td>0.041602</td>\n",
       "      <td>1.0</td>\n",
       "      <td>0.171087</td>\n",
       "    </tr>\n",
       "    <tr>\n",
       "      <th>std</th>\n",
       "      <td>0.088039</td>\n",
       "      <td>0.0</td>\n",
       "      <td>0.376228</td>\n",
       "      <td>0.397108</td>\n",
       "      <td>0.199729</td>\n",
       "      <td>0.0</td>\n",
       "      <td>0.376683</td>\n",
       "    </tr>\n",
       "    <tr>\n",
       "      <th>min</th>\n",
       "      <td>0.307727</td>\n",
       "      <td>1.0</td>\n",
       "      <td>0.000000</td>\n",
       "      <td>0.000000</td>\n",
       "      <td>0.000000</td>\n",
       "      <td>1.0</td>\n",
       "      <td>0.000000</td>\n",
       "    </tr>\n",
       "    <tr>\n",
       "      <th>25%</th>\n",
       "      <td>0.896419</td>\n",
       "      <td>1.0</td>\n",
       "      <td>0.000000</td>\n",
       "      <td>1.000000</td>\n",
       "      <td>0.000000</td>\n",
       "      <td>1.0</td>\n",
       "      <td>0.000000</td>\n",
       "    </tr>\n",
       "    <tr>\n",
       "      <th>50%</th>\n",
       "      <td>0.949331</td>\n",
       "      <td>1.0</td>\n",
       "      <td>0.000000</td>\n",
       "      <td>1.000000</td>\n",
       "      <td>0.000000</td>\n",
       "      <td>1.0</td>\n",
       "      <td>0.000000</td>\n",
       "    </tr>\n",
       "    <tr>\n",
       "      <th>75%</th>\n",
       "      <td>0.978331</td>\n",
       "      <td>1.0</td>\n",
       "      <td>0.000000</td>\n",
       "      <td>1.000000</td>\n",
       "      <td>0.000000</td>\n",
       "      <td>1.0</td>\n",
       "      <td>0.000000</td>\n",
       "    </tr>\n",
       "    <tr>\n",
       "      <th>max</th>\n",
       "      <td>0.998329</td>\n",
       "      <td>1.0</td>\n",
       "      <td>1.000000</td>\n",
       "      <td>1.000000</td>\n",
       "      <td>1.000000</td>\n",
       "      <td>1.0</td>\n",
       "      <td>1.000000</td>\n",
       "    </tr>\n",
       "  </tbody>\n",
       "</table>\n",
       "</div>"
      ],
      "text/plain": [
       "             score   toxic  severe_toxic      obscene       threat  insult  \\\n",
       "count  1923.000000  1923.0   1923.000000  1923.000000  1923.000000  1923.0   \n",
       "mean      0.919526     1.0      0.170567     0.803952     0.041602     1.0   \n",
       "std       0.088039     0.0      0.376228     0.397108     0.199729     0.0   \n",
       "min       0.307727     1.0      0.000000     0.000000     0.000000     1.0   \n",
       "25%       0.896419     1.0      0.000000     1.000000     0.000000     1.0   \n",
       "50%       0.949331     1.0      0.000000     1.000000     0.000000     1.0   \n",
       "75%       0.978331     1.0      0.000000     1.000000     0.000000     1.0   \n",
       "max       0.998329     1.0      1.000000     1.000000     1.000000     1.0   \n",
       "\n",
       "       identity_hate  \n",
       "count    1923.000000  \n",
       "mean        0.171087  \n",
       "std         0.376683  \n",
       "min         0.000000  \n",
       "25%         0.000000  \n",
       "50%         0.000000  \n",
       "75%         0.000000  \n",
       "max         1.000000  "
      ]
     },
     "execution_count": 181,
     "metadata": {},
     "output_type": "execute_result"
    }
   ],
   "source": [
    "new_set.describe()"
   ]
  },
  {
   "cell_type": "markdown",
   "metadata": {},
   "source": [
    "By observing the plot and descrption, I found out that the mean score for the new set is much higher than the mean in original dataset. Besides, the summary indicates that comments that are labeled as 'toxic' and 'insult' also have a high probability of being labeled as 'obscene'. Which, it could say that words used for 'toxic and insult' are also easily used in obscene."
   ]
  },
  {
   "cell_type": "code",
   "execution_count": 182,
   "metadata": {},
   "outputs": [],
   "source": [
    "threshold = 0.919526"
   ]
  },
  {
   "cell_type": "code",
   "execution_count": 183,
   "metadata": {
    "scrolled": true
   },
   "outputs": [
    {
     "data": {
      "text/html": [
       "<div>\n",
       "<style scoped>\n",
       "    .dataframe tbody tr th:only-of-type {\n",
       "        vertical-align: middle;\n",
       "    }\n",
       "\n",
       "    .dataframe tbody tr th {\n",
       "        vertical-align: top;\n",
       "    }\n",
       "\n",
       "    .dataframe thead th {\n",
       "        text-align: right;\n",
       "    }\n",
       "</style>\n",
       "<table border=\"1\" class=\"dataframe\">\n",
       "  <thead>\n",
       "    <tr style=\"text-align: right;\">\n",
       "      <th></th>\n",
       "      <th>id</th>\n",
       "      <th>comment_text</th>\n",
       "      <th>score</th>\n",
       "      <th>toxic</th>\n",
       "      <th>severe_toxic</th>\n",
       "      <th>obscene</th>\n",
       "      <th>threat</th>\n",
       "      <th>insult</th>\n",
       "      <th>identity_hate</th>\n",
       "    </tr>\n",
       "  </thead>\n",
       "  <tbody>\n",
       "    <tr>\n",
       "      <th>24</th>\n",
       "      <td>0013fed3aeae76b7</td>\n",
       "      <td>DJ Robinson is gay as hell! he sucks his dick ...</td>\n",
       "      <td>0.989706</td>\n",
       "      <td>1</td>\n",
       "      <td>0</td>\n",
       "      <td>1</td>\n",
       "      <td>0</td>\n",
       "      <td>1</td>\n",
       "      <td>1</td>\n",
       "    </tr>\n",
       "    <tr>\n",
       "      <th>29</th>\n",
       "      <td>0017d4d47894af05</td>\n",
       "      <td>:Fuck off, you anti-semitic cunt.  |</td>\n",
       "      <td>0.959459</td>\n",
       "      <td>1</td>\n",
       "      <td>0</td>\n",
       "      <td>1</td>\n",
       "      <td>0</td>\n",
       "      <td>1</td>\n",
       "      <td>0</td>\n",
       "    </tr>\n",
       "    <tr>\n",
       "      <th>38</th>\n",
       "      <td>001eff4007dbb65b</td>\n",
       "      <td>::No, he is an arrogant, self serving, immatur...</td>\n",
       "      <td>0.956893</td>\n",
       "      <td>1</td>\n",
       "      <td>0</td>\n",
       "      <td>1</td>\n",
       "      <td>0</td>\n",
       "      <td>1</td>\n",
       "      <td>0</td>\n",
       "    </tr>\n",
       "    <tr>\n",
       "      <th>59</th>\n",
       "      <td>03c1c7a2649a7d87</td>\n",
       "      <td>:::Jeez Ed, you seem like a fucking shitty dou...</td>\n",
       "      <td>0.992469</td>\n",
       "      <td>1</td>\n",
       "      <td>0</td>\n",
       "      <td>1</td>\n",
       "      <td>0</td>\n",
       "      <td>1</td>\n",
       "      <td>0</td>\n",
       "    </tr>\n",
       "    <tr>\n",
       "      <th>62</th>\n",
       "      <td>03c6344729c4e665</td>\n",
       "      <td>Azerbaijanis Proud of Ramil Safarov  \\n If I h...</td>\n",
       "      <td>0.980994</td>\n",
       "      <td>1</td>\n",
       "      <td>0</td>\n",
       "      <td>1</td>\n",
       "      <td>1</td>\n",
       "      <td>1</td>\n",
       "      <td>1</td>\n",
       "    </tr>\n",
       "    <tr>\n",
       "      <th>...</th>\n",
       "      <td>...</td>\n",
       "      <td>...</td>\n",
       "      <td>...</td>\n",
       "      <td>...</td>\n",
       "      <td>...</td>\n",
       "      <td>...</td>\n",
       "      <td>...</td>\n",
       "      <td>...</td>\n",
       "      <td>...</td>\n",
       "    </tr>\n",
       "    <tr>\n",
       "      <th>41134</th>\n",
       "      <td>957c327ace7d9896</td>\n",
       "      <td>how can it be almost certain when it has been ...</td>\n",
       "      <td>0.948421</td>\n",
       "      <td>1</td>\n",
       "      <td>0</td>\n",
       "      <td>1</td>\n",
       "      <td>0</td>\n",
       "      <td>1</td>\n",
       "      <td>0</td>\n",
       "    </tr>\n",
       "    <tr>\n",
       "      <th>41181</th>\n",
       "      <td>95390a4e0cd90ad3</td>\n",
       "      <td>Fuck You Asshole \\n\\nFuck You, you cum-guzzlin...</td>\n",
       "      <td>0.991540</td>\n",
       "      <td>1</td>\n",
       "      <td>1</td>\n",
       "      <td>1</td>\n",
       "      <td>0</td>\n",
       "      <td>1</td>\n",
       "      <td>0</td>\n",
       "    </tr>\n",
       "    <tr>\n",
       "      <th>41209</th>\n",
       "      <td>9513624a1e1a84cf</td>\n",
       "      <td>SparkyFox: Fuck you asswipes</td>\n",
       "      <td>0.981012</td>\n",
       "      <td>1</td>\n",
       "      <td>0</td>\n",
       "      <td>1</td>\n",
       "      <td>0</td>\n",
       "      <td>1</td>\n",
       "      <td>0</td>\n",
       "    </tr>\n",
       "    <tr>\n",
       "      <th>41237</th>\n",
       "      <td>94f8578325d529ad</td>\n",
       "      <td>LMAO WHAT WEAK THREATS, I HAVENT BEEN BANNED Y...</td>\n",
       "      <td>0.945277</td>\n",
       "      <td>1</td>\n",
       "      <td>1</td>\n",
       "      <td>1</td>\n",
       "      <td>0</td>\n",
       "      <td>1</td>\n",
       "      <td>0</td>\n",
       "    </tr>\n",
       "    <tr>\n",
       "      <th>41299</th>\n",
       "      <td>94a5024323152cd1</td>\n",
       "      <td>==Why does it bother you, fuckface?89.123.100....</td>\n",
       "      <td>0.989706</td>\n",
       "      <td>1</td>\n",
       "      <td>0</td>\n",
       "      <td>1</td>\n",
       "      <td>0</td>\n",
       "      <td>1</td>\n",
       "      <td>0</td>\n",
       "    </tr>\n",
       "  </tbody>\n",
       "</table>\n",
       "<p>1262 rows × 9 columns</p>\n",
       "</div>"
      ],
      "text/plain": [
       "                     id                                       comment_text  \\\n",
       "24     0013fed3aeae76b7  DJ Robinson is gay as hell! he sucks his dick ...   \n",
       "29     0017d4d47894af05               :Fuck off, you anti-semitic cunt.  |   \n",
       "38     001eff4007dbb65b  ::No, he is an arrogant, self serving, immatur...   \n",
       "59     03c1c7a2649a7d87  :::Jeez Ed, you seem like a fucking shitty dou...   \n",
       "62     03c6344729c4e665  Azerbaijanis Proud of Ramil Safarov  \\n If I h...   \n",
       "...                 ...                                                ...   \n",
       "41134  957c327ace7d9896  how can it be almost certain when it has been ...   \n",
       "41181  95390a4e0cd90ad3  Fuck You Asshole \\n\\nFuck You, you cum-guzzlin...   \n",
       "41209  9513624a1e1a84cf                       SparkyFox: Fuck you asswipes   \n",
       "41237  94f8578325d529ad  LMAO WHAT WEAK THREATS, I HAVENT BEEN BANNED Y...   \n",
       "41299  94a5024323152cd1  ==Why does it bother you, fuckface?89.123.100....   \n",
       "\n",
       "          score  toxic  severe_toxic  obscene  threat  insult  identity_hate  \n",
       "24     0.989706      1             0        1       0       1              1  \n",
       "29     0.959459      1             0        1       0       1              0  \n",
       "38     0.956893      1             0        1       0       1              0  \n",
       "59     0.992469      1             0        1       0       1              0  \n",
       "62     0.980994      1             0        1       1       1              1  \n",
       "...         ...    ...           ...      ...     ...     ...            ...  \n",
       "41134  0.948421      1             0        1       0       1              0  \n",
       "41181  0.991540      1             1        1       0       1              0  \n",
       "41209  0.981012      1             0        1       0       1              0  \n",
       "41237  0.945277      1             1        1       0       1              0  \n",
       "41299  0.989706      1             0        1       0       1              0  \n",
       "\n",
       "[1262 rows x 9 columns]"
      ]
     },
     "execution_count": 183,
     "metadata": {},
     "output_type": "execute_result"
    }
   ],
   "source": [
    "new_set[new_set['score']>= 0.919526]"
   ]
  },
  {
   "cell_type": "code",
   "execution_count": 184,
   "metadata": {},
   "outputs": [
    {
     "data": {
      "text/html": [
       "<div>\n",
       "<style scoped>\n",
       "    .dataframe tbody tr th:only-of-type {\n",
       "        vertical-align: middle;\n",
       "    }\n",
       "\n",
       "    .dataframe tbody tr th {\n",
       "        vertical-align: top;\n",
       "    }\n",
       "\n",
       "    .dataframe thead th {\n",
       "        text-align: right;\n",
       "    }\n",
       "</style>\n",
       "<table border=\"1\" class=\"dataframe\">\n",
       "  <thead>\n",
       "    <tr style=\"text-align: right;\">\n",
       "      <th></th>\n",
       "      <th>id</th>\n",
       "      <th>comment_text</th>\n",
       "      <th>score</th>\n",
       "      <th>toxic</th>\n",
       "      <th>severe_toxic</th>\n",
       "      <th>obscene</th>\n",
       "      <th>threat</th>\n",
       "      <th>insult</th>\n",
       "      <th>identity_hate</th>\n",
       "    </tr>\n",
       "  </thead>\n",
       "  <tbody>\n",
       "    <tr>\n",
       "      <th>123</th>\n",
       "      <td>07e0fe7770ca2abe</td>\n",
       "      <td>Bill \\n\\n  \\n\\n  \\n\\n  \\n dear \\n sir \\n\\n  \\n...</td>\n",
       "      <td>0.913934</td>\n",
       "      <td>1</td>\n",
       "      <td>0</td>\n",
       "      <td>0</td>\n",
       "      <td>0</td>\n",
       "      <td>1</td>\n",
       "      <td>1</td>\n",
       "    </tr>\n",
       "    <tr>\n",
       "      <th>143</th>\n",
       "      <td>0bc799a58279849f</td>\n",
       "      <td>I knew he was a dirty jew.</td>\n",
       "      <td>0.909082</td>\n",
       "      <td>1</td>\n",
       "      <td>0</td>\n",
       "      <td>0</td>\n",
       "      <td>0</td>\n",
       "      <td>1</td>\n",
       "      <td>1</td>\n",
       "    </tr>\n",
       "    <tr>\n",
       "      <th>240</th>\n",
       "      <td>137df37e25c41d7a</td>\n",
       "      <td>\" (UTC) \\n\\n Stupid! \"\"ß\"\" is a ligature of sz...</td>\n",
       "      <td>0.843952</td>\n",
       "      <td>1</td>\n",
       "      <td>0</td>\n",
       "      <td>0</td>\n",
       "      <td>0</td>\n",
       "      <td>1</td>\n",
       "      <td>0</td>\n",
       "    </tr>\n",
       "    <tr>\n",
       "      <th>291</th>\n",
       "      <td>16d2c7fba677c4ce</td>\n",
       "      <td>rather than a stupid one</td>\n",
       "      <td>0.887998</td>\n",
       "      <td>1</td>\n",
       "      <td>0</td>\n",
       "      <td>0</td>\n",
       "      <td>0</td>\n",
       "      <td>1</td>\n",
       "      <td>0</td>\n",
       "    </tr>\n",
       "    <tr>\n",
       "      <th>315</th>\n",
       "      <td>1a17976be8da3231</td>\n",
       "      <td>\" 2007 (UTC) \\n\\n :Dude, saying stuff like  \\n...</td>\n",
       "      <td>0.918381</td>\n",
       "      <td>1</td>\n",
       "      <td>0</td>\n",
       "      <td>1</td>\n",
       "      <td>0</td>\n",
       "      <td>1</td>\n",
       "      <td>0</td>\n",
       "    </tr>\n",
       "    <tr>\n",
       "      <th>...</th>\n",
       "      <td>...</td>\n",
       "      <td>...</td>\n",
       "      <td>...</td>\n",
       "      <td>...</td>\n",
       "      <td>...</td>\n",
       "      <td>...</td>\n",
       "      <td>...</td>\n",
       "      <td>...</td>\n",
       "      <td>...</td>\n",
       "    </tr>\n",
       "    <tr>\n",
       "      <th>41037</th>\n",
       "      <td>9604971ad1b7001c</td>\n",
       "      <td>you can blok em all yo want fagget because tru...</td>\n",
       "      <td>0.827926</td>\n",
       "      <td>1</td>\n",
       "      <td>0</td>\n",
       "      <td>1</td>\n",
       "      <td>0</td>\n",
       "      <td>1</td>\n",
       "      <td>0</td>\n",
       "    </tr>\n",
       "    <tr>\n",
       "      <th>41062</th>\n",
       "      <td>95ddf8be1b12c559</td>\n",
       "      <td>In defence of China! \\n\\nHey Koreans, who the ...</td>\n",
       "      <td>0.915653</td>\n",
       "      <td>1</td>\n",
       "      <td>0</td>\n",
       "      <td>1</td>\n",
       "      <td>0</td>\n",
       "      <td>1</td>\n",
       "      <td>1</td>\n",
       "    </tr>\n",
       "    <tr>\n",
       "      <th>41114</th>\n",
       "      <td>958fce5a67048b4f</td>\n",
       "      <td>I HATE THIS GUY HE IS SOME INTERNET THUG THAT ...</td>\n",
       "      <td>0.860626</td>\n",
       "      <td>1</td>\n",
       "      <td>0</td>\n",
       "      <td>0</td>\n",
       "      <td>0</td>\n",
       "      <td>1</td>\n",
       "      <td>0</td>\n",
       "    </tr>\n",
       "    <tr>\n",
       "      <th>41230</th>\n",
       "      <td>950289915676e6d7</td>\n",
       "      <td>you stink shoo woo woo</td>\n",
       "      <td>0.860626</td>\n",
       "      <td>1</td>\n",
       "      <td>0</td>\n",
       "      <td>0</td>\n",
       "      <td>0</td>\n",
       "      <td>1</td>\n",
       "      <td>0</td>\n",
       "    </tr>\n",
       "    <tr>\n",
       "      <th>41238</th>\n",
       "      <td>94f8302c2e339bae</td>\n",
       "      <td>THIS IS AWFUL, JUST AWFUL!!! ALL GERMANS ARE M...</td>\n",
       "      <td>0.878531</td>\n",
       "      <td>1</td>\n",
       "      <td>0</td>\n",
       "      <td>1</td>\n",
       "      <td>0</td>\n",
       "      <td>1</td>\n",
       "      <td>1</td>\n",
       "    </tr>\n",
       "  </tbody>\n",
       "</table>\n",
       "<p>661 rows × 9 columns</p>\n",
       "</div>"
      ],
      "text/plain": [
       "                     id                                       comment_text  \\\n",
       "123    07e0fe7770ca2abe  Bill \\n\\n  \\n\\n  \\n\\n  \\n dear \\n sir \\n\\n  \\n...   \n",
       "143    0bc799a58279849f                         I knew he was a dirty jew.   \n",
       "240    137df37e25c41d7a  \" (UTC) \\n\\n Stupid! \"\"ß\"\" is a ligature of sz...   \n",
       "291    16d2c7fba677c4ce                           rather than a stupid one   \n",
       "315    1a17976be8da3231  \" 2007 (UTC) \\n\\n :Dude, saying stuff like  \\n...   \n",
       "...                 ...                                                ...   \n",
       "41037  9604971ad1b7001c  you can blok em all yo want fagget because tru...   \n",
       "41062  95ddf8be1b12c559  In defence of China! \\n\\nHey Koreans, who the ...   \n",
       "41114  958fce5a67048b4f  I HATE THIS GUY HE IS SOME INTERNET THUG THAT ...   \n",
       "41230  950289915676e6d7                             you stink shoo woo woo   \n",
       "41238  94f8302c2e339bae  THIS IS AWFUL, JUST AWFUL!!! ALL GERMANS ARE M...   \n",
       "\n",
       "          score  toxic  severe_toxic  obscene  threat  insult  identity_hate  \n",
       "123    0.913934      1             0        0       0       1              1  \n",
       "143    0.909082      1             0        0       0       1              1  \n",
       "240    0.843952      1             0        0       0       1              0  \n",
       "291    0.887998      1             0        0       0       1              0  \n",
       "315    0.918381      1             0        1       0       1              0  \n",
       "...         ...    ...           ...      ...     ...     ...            ...  \n",
       "41037  0.827926      1             0        1       0       1              0  \n",
       "41062  0.915653      1             0        1       0       1              1  \n",
       "41114  0.860626      1             0        0       0       1              0  \n",
       "41230  0.860626      1             0        0       0       1              0  \n",
       "41238  0.878531      1             0        1       0       1              1  \n",
       "\n",
       "[661 rows x 9 columns]"
      ]
     },
     "execution_count": 184,
     "metadata": {},
     "output_type": "execute_result"
    }
   ],
   "source": [
    "new_set[new_set['score']< 0.919526]"
   ]
  },
  {
   "cell_type": "markdown",
   "metadata": {},
   "source": [
    "As the result shown above, among the comments with 'toxic' and 'insult' lables, about 2/3 is actually above the threshold. "
   ]
  },
  {
   "cell_type": "markdown",
   "metadata": {},
   "source": [
    "**API test**:"
   ]
  },
  {
   "cell_type": "markdown",
   "metadata": {},
   "source": [
    "Here I want to know would use lowercase or uppercase to write the comment lead to getting different results in the toxic insult field. And since people often use the uppercase form to represent their stronger emotions, my hypothesis is that comments in uppercase form would generate a higher score in the system."
   ]
  },
  {
   "cell_type": "markdown",
   "metadata": {},
   "source": [
    "The test includes the comparison between the lowercase and uppercase forms of the swearwords that are being used widely in insult/toxic tweets on Twitter. The results will also be compared to the mean score (threshold) gained previously under the 'new_set.describe()' section. The test also includes the comment sample from the 'toxic&insult' dataset (new_set)."
   ]
  },
  {
   "cell_type": "markdown",
   "metadata": {},
   "source": [
    "***Most popular swearwords in insult/toxic tweets on Twitter***"
   ]
  },
  {
   "cell_type": "markdown",
   "metadata": {},
   "source": [
    "Resource from: https://www.fastcompany.com/3026596/140-characters-of-fck-sht-and-ss-how-we-swear-on-twitter"
   ]
  },
  {
   "cell_type": "code",
   "execution_count": 185,
   "metadata": {},
   "outputs": [
    {
     "name": "stdout",
     "output_type": "stream",
     "text": [
      "fuck 0.9017833\n",
      "shit 0.7007861\n",
      "asshole 0.89158845\n",
      "bitch 0.9254919\n",
      "nigga 0.7007861\n",
      "hell 0.31671798\n",
      "whore 0.78524166\n",
      "dick 0.59863794\n",
      "piss 0.39284727\n",
      "pussy 0.6955873\n"
     ]
    }
   ],
   "source": [
    "comment_list = ['fuck', 'shit', 'asshole', 'bitch', 'nigga', 'hell', 'whore', 'dick', 'piss', 'pussy']\n",
    "\n",
    "for comment in comment_list:\n",
    "    score = get_toxicity_score(comment)\n",
    "    print(comment, score)\n",
    "    time.sleep(1)"
   ]
  },
  {
   "cell_type": "code",
   "execution_count": 186,
   "metadata": {},
   "outputs": [
    {
     "name": "stdout",
     "output_type": "stream",
     "text": [
      "FUCK 0.9320454\n",
      "SHIT 0.8546526\n",
      "ASSHOLE 0.91406596\n",
      "BITCH 0.95068264\n",
      "NIGGA 0.7593913\n",
      "HELL 0.27856\n",
      "WHORE 0.7569718\n",
      "DICK 0.5958905\n",
      "PISS 0.3905958\n",
      "PUSSY 0.7816909\n"
     ]
    }
   ],
   "source": [
    "comment_list = ['FUCK', 'SHIT', 'ASSHOLE', 'BITCH', 'NIGGA', 'HELL', 'WHORE', 'DICK', 'PISS', 'PUSSY']\n",
    "\n",
    "for comment in comment_list:\n",
    "    score = get_toxicity_score(comment)\n",
    "    print(comment, score)\n",
    "    time.sleep(1)"
   ]
  },
  {
   "cell_type": "markdown",
   "metadata": {},
   "source": [
    "In this part of the test, most of the results show that words in uppercase would get a higher toxic score. Words like 'fuck' are even over the threshold (0.919526) when it switches to uppercase. However, there are 3 out of 10 in this test, which is shown as a lower score after the word switches to uppercase form. And the false rate for this part is 30%."
   ]
  },
  {
   "cell_type": "markdown",
   "metadata": {},
   "source": [
    "It is also surprising to notice that popular swearwords used on Twitter like 'hell'(0.31671798), 'piss'(0.39284727) got a much lower score compared with others and even the threshold (0.919526)."
   ]
  },
  {
   "cell_type": "markdown",
   "metadata": {},
   "source": [
    "***Comments from the dataset***"
   ]
  },
  {
   "cell_type": "markdown",
   "metadata": {},
   "source": [
    "sample #1"
   ]
  },
  {
   "cell_type": "code",
   "execution_count": 187,
   "metadata": {},
   "outputs": [
    {
     "data": {
      "text/plain": [
       "'OH DEAR ! HOW FRIGHTENING. IT TAKES ALL OF TEN SECONDS TO GET ANOTHER IP ADDRESS ASSHOLE.'"
      ]
     },
     "execution_count": 187,
     "metadata": {},
     "output_type": "execute_result"
    }
   ],
   "source": [
    "new_set['comment_text'][31505]"
   ]
  },
  {
   "cell_type": "code",
   "execution_count": 188,
   "metadata": {},
   "outputs": [
    {
     "data": {
      "text/plain": [
       "0.867151"
      ]
     },
     "execution_count": 188,
     "metadata": {},
     "output_type": "execute_result"
    }
   ],
   "source": [
    "get_toxicity_score('OH DEAR ! HOW FRIGHTENING. IT TAKES ALL OF TEN SECONDS TO GET ANOTHER IP ADDRESS ASSHOLE.')"
   ]
  },
  {
   "cell_type": "code",
   "execution_count": 189,
   "metadata": {},
   "outputs": [
    {
     "data": {
      "text/plain": [
       "0.8269591"
      ]
     },
     "execution_count": 189,
     "metadata": {},
     "output_type": "execute_result"
    }
   ],
   "source": [
    "get_toxicity_score('oh dear ! how frightening. it takes all of ten seconds to get another ip address asshole.')"
   ]
  },
  {
   "cell_type": "markdown",
   "metadata": {},
   "source": [
    "sample #2"
   ]
  },
  {
   "cell_type": "code",
   "execution_count": 190,
   "metadata": {},
   "outputs": [
    {
     "data": {
      "text/plain": [
       "'you stink shoo woo woo'"
      ]
     },
     "execution_count": 190,
     "metadata": {},
     "output_type": "execute_result"
    }
   ],
   "source": [
    "new_set['comment_text'][41230]"
   ]
  },
  {
   "cell_type": "code",
   "execution_count": 191,
   "metadata": {},
   "outputs": [
    {
     "data": {
      "text/plain": [
       "0.7007861"
      ]
     },
     "execution_count": 191,
     "metadata": {},
     "output_type": "execute_result"
    }
   ],
   "source": [
    "get_toxicity_score('you stink shoo woo woo')"
   ]
  },
  {
   "cell_type": "code",
   "execution_count": 192,
   "metadata": {},
   "outputs": [
    {
     "data": {
      "text/plain": [
       "0.62792164"
      ]
     },
     "execution_count": 192,
     "metadata": {},
     "output_type": "execute_result"
    }
   ],
   "source": [
    "get_toxicity_score('YOU STINK SHOO WOO WOO')"
   ]
  },
  {
   "cell_type": "markdown",
   "metadata": {},
   "source": [
    "sample #3"
   ]
  },
  {
   "cell_type": "code",
   "execution_count": 193,
   "metadata": {},
   "outputs": [
    {
     "data": {
      "text/plain": [
       "':Fuck off, you anti-semitic cunt.  |'"
      ]
     },
     "execution_count": 193,
     "metadata": {},
     "output_type": "execute_result"
    }
   ],
   "source": [
    "new_set['comment_text'][29]"
   ]
  },
  {
   "cell_type": "code",
   "execution_count": 194,
   "metadata": {},
   "outputs": [
    {
     "data": {
      "text/plain": [
       "0.9728165"
      ]
     },
     "execution_count": 194,
     "metadata": {},
     "output_type": "execute_result"
    }
   ],
   "source": [
    "get_toxicity_score(':Fuck off, you anti-semitic cunt.  |')"
   ]
  },
  {
   "cell_type": "code",
   "execution_count": 195,
   "metadata": {},
   "outputs": [
    {
     "data": {
      "text/plain": [
       "0.97926265"
      ]
     },
     "execution_count": 195,
     "metadata": {},
     "output_type": "execute_result"
    }
   ],
   "source": [
    "get_toxicity_score(':FUCK OFF, YOU ANTI-SEMITIC CUNT.  |')"
   ]
  },
  {
   "cell_type": "markdown",
   "metadata": {},
   "source": [
    "sample #4"
   ]
  },
  {
   "cell_type": "code",
   "execution_count": 196,
   "metadata": {},
   "outputs": [
    {
     "data": {
      "text/plain": [
       "'I knew he was a dirty jew.'"
      ]
     },
     "execution_count": 196,
     "metadata": {},
     "output_type": "execute_result"
    }
   ],
   "source": [
    "new_set['comment_text'][143]"
   ]
  },
  {
   "cell_type": "code",
   "execution_count": 197,
   "metadata": {},
   "outputs": [
    {
     "data": {
      "text/plain": [
       "0.8546526"
      ]
     },
     "execution_count": 197,
     "metadata": {},
     "output_type": "execute_result"
    }
   ],
   "source": [
    "get_toxicity_score('I knew he was a dirty jew.')"
   ]
  },
  {
   "cell_type": "code",
   "execution_count": 198,
   "metadata": {},
   "outputs": [
    {
     "data": {
      "text/plain": [
       "0.8393344"
      ]
     },
     "execution_count": 198,
     "metadata": {},
     "output_type": "execute_result"
    }
   ],
   "source": [
    "get_toxicity_score('I KNEW HE WAS A DIRTY JEW.')"
   ]
  },
  {
   "cell_type": "markdown",
   "metadata": {},
   "source": [
    "sample #5"
   ]
  },
  {
   "cell_type": "code",
   "execution_count": 199,
   "metadata": {},
   "outputs": [
    {
     "data": {
      "text/plain": [
       "'DJ Robinson is gay as hell! he sucks his dick so much!!!!!'"
      ]
     },
     "execution_count": 199,
     "metadata": {},
     "output_type": "execute_result"
    }
   ],
   "source": [
    "new_set['comment_text'][24]"
   ]
  },
  {
   "cell_type": "code",
   "execution_count": 200,
   "metadata": {},
   "outputs": [
    {
     "data": {
      "text/plain": [
       "0.96751314"
      ]
     },
     "execution_count": 200,
     "metadata": {},
     "output_type": "execute_result"
    }
   ],
   "source": [
    "get_toxicity_score('DJ Robinson is gay as hell! he sucks his dick so much!!!!!')"
   ]
  },
  {
   "cell_type": "code",
   "execution_count": 201,
   "metadata": {},
   "outputs": [
    {
     "data": {
      "text/plain": [
       "0.9728165"
      ]
     },
     "execution_count": 201,
     "metadata": {},
     "output_type": "execute_result"
    }
   ],
   "source": [
    "get_toxicity_score('DJ ROBINSON IS GAY AS HELL! HE SUCKS HIS DICK SO MUCH!!!!!')"
   ]
  },
  {
   "cell_type": "markdown",
   "metadata": {},
   "source": [
    "sample #6"
   ]
  },
  {
   "cell_type": "code",
   "execution_count": 202,
   "metadata": {},
   "outputs": [
    {
     "data": {
      "text/plain": [
       "'Wikipedia is gay suck on that!!!!!!!!!!!!!'"
      ]
     },
     "execution_count": 202,
     "metadata": {},
     "output_type": "execute_result"
    }
   ],
   "source": [
    "new_set['comment_text'][5550]"
   ]
  },
  {
   "cell_type": "code",
   "execution_count": 203,
   "metadata": {},
   "outputs": [
    {
     "data": {
      "text/plain": [
       "0.96751314"
      ]
     },
     "execution_count": 203,
     "metadata": {},
     "output_type": "execute_result"
    }
   ],
   "source": [
    "get_toxicity_score('Wikipedia is gay suck on that!!!!!!!!!!!!!')"
   ]
  },
  {
   "cell_type": "code",
   "execution_count": 204,
   "metadata": {},
   "outputs": [
    {
     "data": {
      "text/plain": [
       "0.9728165"
      ]
     },
     "execution_count": 204,
     "metadata": {},
     "output_type": "execute_result"
    }
   ],
   "source": [
    "get_toxicity_score('WIKIPEDIA IS GAY SUCK ON THAT!!!!!!!!!!!!!')"
   ]
  },
  {
   "cell_type": "markdown",
   "metadata": {},
   "source": [
    "sample #7"
   ]
  },
  {
   "cell_type": "code",
   "execution_count": 205,
   "metadata": {},
   "outputs": [
    {
     "data": {
      "text/plain": [
       "\"GO FIND A GIRLFRIEND \\n\\nI'LL GIVE U VANDALISM MOTHER FUCKER!\\nGO FIND A GIRLFRIEND AND DO NOT CHANGE THINGS!\\nDEPRESSED!\""
      ]
     },
     "execution_count": 205,
     "metadata": {},
     "output_type": "execute_result"
    }
   ],
   "source": [
    "new_set['comment_text'][24188]"
   ]
  },
  {
   "cell_type": "code",
   "execution_count": 206,
   "metadata": {},
   "outputs": [
    {
     "data": {
      "text/plain": [
       "0.95068264"
      ]
     },
     "execution_count": 206,
     "metadata": {},
     "output_type": "execute_result"
    }
   ],
   "source": [
    "get_toxicity_score(\"GO FIND A GIRLFRIEND \\n\\nI'LL GIVE U VANDALISM MOTHER FUCKER!\\nGO FIND A GIRLFRIEND AND DO NOT CHANGE THINGS!\\nDEPRESSED!\")"
   ]
  },
  {
   "cell_type": "code",
   "execution_count": 207,
   "metadata": {},
   "outputs": [
    {
     "data": {
      "text/plain": [
       "0.9358428"
      ]
     },
     "execution_count": 207,
     "metadata": {},
     "output_type": "execute_result"
    }
   ],
   "source": [
    "get_toxicity_score(\"go find a girlfriend \\n\\ni'll give u vandalism mother fucker!\\ngo find a girlfriend and do not change things!\\ndepressed!\")"
   ]
  },
  {
   "cell_type": "markdown",
   "metadata": {},
   "source": [
    "sample  #8"
   ]
  },
  {
   "cell_type": "code",
   "execution_count": 208,
   "metadata": {},
   "outputs": [
    {
     "data": {
      "text/plain": [
       "'Hey, CambridgeBayWeather, quit being suck a fucking homo and get a fucking life instead of just sitting around and making sure nobody fucks with wikipedia. Fuck you, and quit editing MY page you fucking homo motherfucker.'"
      ]
     },
     "execution_count": 208,
     "metadata": {},
     "output_type": "execute_result"
    }
   ],
   "source": [
    "new_set['comment_text'][30420]"
   ]
  },
  {
   "cell_type": "code",
   "execution_count": 209,
   "metadata": {},
   "outputs": [
    {
     "data": {
      "text/plain": [
       "0.96176314"
      ]
     },
     "execution_count": 209,
     "metadata": {},
     "output_type": "execute_result"
    }
   ],
   "source": [
    "get_toxicity_score('Hey, CambridgeBayWeather, quit being suck a fucking homo and get a fucking life instead of just sitting around and making sure nobody fucks with wikipedia. Fuck you, and quit editing MY page you fucking homo motherfucker.')"
   ]
  },
  {
   "cell_type": "code",
   "execution_count": 210,
   "metadata": {},
   "outputs": [
    {
     "data": {
      "text/plain": [
       "0.9728165"
      ]
     },
     "execution_count": 210,
     "metadata": {},
     "output_type": "execute_result"
    }
   ],
   "source": [
    "get_toxicity_score('HEY, CAMBRIDGEBAYWEATHER, QUIT BEING SUCK A FUCKING HOMO AND GET A FUCKING LIFE INSTEAD OF JUST SITTING AROUND AND MAKING SURE NOBODY FUCKS WITH WIKIPEDIA. FUCK YOU, AND QUIT EDITING MY PAGE YOU FUCKING HOMO MOTHERFUCKER.')"
   ]
  },
  {
   "cell_type": "markdown",
   "metadata": {},
   "source": [
    "sample #9"
   ]
  },
  {
   "cell_type": "code",
   "execution_count": 211,
   "metadata": {},
   "outputs": [
    {
     "data": {
      "text/plain": [
       "'Congrats for being a total fucking faggot.'"
      ]
     },
     "execution_count": 211,
     "metadata": {},
     "output_type": "execute_result"
    }
   ],
   "source": [
    "new_set['comment_text'][38127]"
   ]
  },
  {
   "cell_type": "code",
   "execution_count": 212,
   "metadata": {},
   "outputs": [
    {
     "data": {
      "text/plain": [
       "0.95473075"
      ]
     },
     "execution_count": 212,
     "metadata": {},
     "output_type": "execute_result"
    }
   ],
   "source": [
    "get_toxicity_score('Congrats for being a total fucking faggot.')"
   ]
  },
  {
   "cell_type": "code",
   "execution_count": 213,
   "metadata": {},
   "outputs": [
    {
     "data": {
      "text/plain": [
       "0.96176314"
      ]
     },
     "execution_count": 213,
     "metadata": {},
     "output_type": "execute_result"
    }
   ],
   "source": [
    "get_toxicity_score('CONGRATS FOR BEING A TOTAL FUCKING FAGGOT.')"
   ]
  },
  {
   "cell_type": "markdown",
   "metadata": {},
   "source": [
    "sample #10"
   ]
  },
  {
   "cell_type": "code",
   "execution_count": 214,
   "metadata": {},
   "outputs": [
    {
     "data": {
      "text/plain": [
       "'STOP POSTING WARNIGN ON MY TALK PAGE ITS FUCKING GAY AS SHIT AND I DONT GIVE A FUCK JESUS CHIRST'"
      ]
     },
     "execution_count": 214,
     "metadata": {},
     "output_type": "execute_result"
    }
   ],
   "source": [
    "new_set['comment_text'][6475]"
   ]
  },
  {
   "cell_type": "code",
   "execution_count": 215,
   "metadata": {},
   "outputs": [
    {
     "data": {
      "text/plain": [
       "0.9728165"
      ]
     },
     "execution_count": 215,
     "metadata": {},
     "output_type": "execute_result"
    }
   ],
   "source": [
    "get_toxicity_score('STOP POSTING WARNIGN ON MY TALK PAGE ITS FUCKING GAY AS SHIT AND I DONT GIVE A FUCK JESUS CHIRST')"
   ]
  },
  {
   "cell_type": "code",
   "execution_count": 216,
   "metadata": {
    "scrolled": true
   },
   "outputs": [
    {
     "data": {
      "text/plain": [
       "0.96176314"
      ]
     },
     "execution_count": 216,
     "metadata": {},
     "output_type": "execute_result"
    }
   ],
   "source": [
    "get_toxicity_score('stop posting warnign on my talk page its fucking gay as shit and i dont give a fuck jesus chirst')"
   ]
  },
  {
   "cell_type": "markdown",
   "metadata": {},
   "source": [
    "In part II, I run a toxicity score test on 10 samples from the dataset that are labeled as 'toxic' and 'insult'. 8 of them get a higher toxicity score in the uppercase form. Yet, not all of them show an increase score in uppercase form. Sample 2 and 4 decrease by 0.07 and 0.15 point after switching into uppercase. And the false rate for this part of the test is 20%."
   ]
  },
  {
   "cell_type": "markdown",
   "metadata": {},
   "source": [
    "Overall, based on what got in the two parts of the test, I would say that the hypothesis has been proved. But since there are still some of the samples showing a different result than predicted, I believe there is still a bias in the system. By observing those who got a lower score in uppercase, one possible cause could be that these swearwords are less common and contain a indirect insult feeling, compared with swearwords like 'fuck'."
   ]
  },
  {
   "cell_type": "markdown",
   "metadata": {},
   "source": [
    "One way I think that can improve the test's accuracy can be increase the numbers of samples participating in the test. For example, the overall false rate for the test is 25%. But it could be affected by the small test numbers (20). The rate may change if the numbers expand to hundreds, thousdands. "
   ]
  }
 ],
 "metadata": {
  "kernelspec": {
   "display_name": "Python 3 (ipykernel)",
   "language": "python",
   "name": "python3"
  },
  "language_info": {
   "codemirror_mode": {
    "name": "ipython",
    "version": 3
   },
   "file_extension": ".py",
   "mimetype": "text/x-python",
   "name": "python",
   "nbconvert_exporter": "python",
   "pygments_lexer": "ipython3",
   "version": "3.9.12"
  }
 },
 "nbformat": 4,
 "nbformat_minor": 2
}
